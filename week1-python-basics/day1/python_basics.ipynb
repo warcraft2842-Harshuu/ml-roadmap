{
 "cells": [
  {
   "cell_type": "code",
   "execution_count": 1,
   "id": "4a9836f3",
   "metadata": {},
   "outputs": [
    {
     "name": "stdout",
     "output_type": "stream",
     "text": [
      "Hello, Machine Learning World!!\n"
     ]
    }
   ],
   "source": [
    "print(\"Hello, Machine Learning World!!\")"
   ]
  },
  {
   "cell_type": "code",
   "execution_count": 2,
   "id": "06515169",
   "metadata": {},
   "outputs": [
    {
     "name": "stdout",
     "output_type": "stream",
     "text": [
      "Harsh 22 1.85 True\n",
      "<class 'str'> <class 'float'> <class 'float'> <class 'bool'>\n"
     ]
    }
   ],
   "source": [
    "name = \"Harsh\"\n",
    "age = 22\n",
    "height = 1.85\n",
    "isstudent = True\n",
    "\n",
    "print(name, age, height, isstudent)\n",
    "print(type(name), type(height), type(height), type(isstudent))"
   ]
  },
  {
   "cell_type": "code",
   "execution_count": 4,
   "id": "a65712e8",
   "metadata": {},
   "outputs": [
    {
     "name": "stdout",
     "output_type": "stream",
     "text": [
      "['apple', 'banana', 'mango', 'orange']\n"
     ]
    }
   ],
   "source": [
    "fruits = [\"apple\", \"banana\", \"mango\"]\n",
    "fruits.append(\"orange\")\n",
    "print(fruits)\n"
   ]
  },
  {
   "cell_type": "code",
   "execution_count": 5,
   "id": "13c1db56",
   "metadata": {},
   "outputs": [
    {
     "name": "stdout",
     "output_type": "stream",
     "text": [
      "APPLE\n",
      "BANANA\n",
      "MANGO\n",
      "ORANGE\n"
     ]
    }
   ],
   "source": [
    "for fruit in fruits:\n",
    "    print(fruit.upper())\n"
   ]
  },
  {
   "cell_type": "code",
   "execution_count": 6,
   "id": "6f9cc886",
   "metadata": {},
   "outputs": [
    {
     "name": "stdout",
     "output_type": "stream",
     "text": [
      "(10, 20)\n"
     ]
    }
   ],
   "source": [
    "coordinates = (10, 20)\n",
    "print(coordinates)"
   ]
  },
  {
   "cell_type": "code",
   "execution_count": 8,
   "id": "f63abe87",
   "metadata": {},
   "outputs": [
    {
     "name": "stdout",
     "output_type": "stream",
     "text": [
      "Harsh\n",
      "{'name': 'Harsh', 'age': 23}\n"
     ]
    }
   ],
   "source": [
    "person = {\"name\": \"Harsh\", \"age\": 23}\n",
    "print(person[\"name\"])\n",
    "print(person)"
   ]
  },
  {
   "cell_type": "code",
   "execution_count": 9,
   "id": "b231e0a9",
   "metadata": {},
   "outputs": [
    {
     "name": "stdout",
     "output_type": "stream",
     "text": [
      "Loop count :  0\n",
      "Loop count :  1\n",
      "Loop count :  2\n",
      "Loop count :  3\n",
      "Loop count :  4\n"
     ]
    }
   ],
   "source": [
    "for i in range(5):\n",
    "    print(\"Loop count : \", i)"
   ]
  },
  {
   "cell_type": "code",
   "execution_count": 10,
   "id": "b0d783f6",
   "metadata": {},
   "outputs": [
    {
     "name": "stdout",
     "output_type": "stream",
     "text": [
      "Hello, Harsh!!!\n"
     ]
    }
   ],
   "source": [
    "def greet(name):\n",
    "    return f\"Hello, {name}!!!\"\n",
    "\n",
    "print(greet(\"Harsh\"))"
   ]
  },
  {
   "cell_type": "code",
   "execution_count": 15,
   "id": "ec189454",
   "metadata": {},
   "outputs": [
    {
     "name": "stdout",
     "output_type": "stream",
     "text": [
      "Harsh \n",
      "Gaming\n",
      "Minor\n",
      "1\n",
      "2\n",
      "3\n",
      "4\n",
      "5\n",
      "6\n",
      "7\n",
      "8\n",
      "9\n",
      "10\n",
      "3\n"
     ]
    }
   ],
   "source": [
    "print(\"Harsh \\nGaming\")\n",
    "\n",
    "city = \"Ranchi\"\n",
    "no_of_siblings = 1\n",
    "graduation = 2025\n",
    "\n",
    "laptop = {\"Brand\" : \"ASUS\", \"RAM\" : 12, \"Processor\" : \"i7\"}\n",
    "\n",
    "age = 10\n",
    "if age >= 18:\n",
    "    print(\"Adult\")\n",
    "else:\n",
    "    print(\"Minor\")\n",
    "\n",
    "for i in range (1, 11):\n",
    "    print(i)\n",
    "\n",
    "def addition(num1, num2):\n",
    "    return num1 + num2\n",
    "\n",
    "print(addition(1, 2))"
   ]
  },
  {
   "cell_type": "code",
   "execution_count": 17,
   "id": "941f05de",
   "metadata": {},
   "outputs": [
    {
     "name": "stdout",
     "output_type": "stream",
     "text": [
      "Hello Harsh, you are 22 years old! Your are an Adult\n",
      "Hello Ashwini, you are 17 years old! Your are a Minor\n"
     ]
    }
   ],
   "source": [
    "def greet_user(name, age):\n",
    "\n",
    "    if age >= 18:\n",
    "        print(f\"Hello {name}, you are {age} years old! Your are an Adult\")\n",
    "    else:\n",
    "        print(f\"Hello {name}, you are {age} years old! Your are a Minor\")\n",
    "\n",
    "greet_user(\"Harsh\", 22)\n",
    "greet_user(\"Ashwini\", 17)"
   ]
  }
 ],
 "metadata": {
  "kernelspec": {
   "display_name": "Python 3",
   "language": "python",
   "name": "python3"
  },
  "language_info": {
   "codemirror_mode": {
    "name": "ipython",
    "version": 3
   },
   "file_extension": ".py",
   "mimetype": "text/x-python",
   "name": "python",
   "nbconvert_exporter": "python",
   "pygments_lexer": "ipython3",
   "version": "3.12.1"
  }
 },
 "nbformat": 4,
 "nbformat_minor": 5
}
