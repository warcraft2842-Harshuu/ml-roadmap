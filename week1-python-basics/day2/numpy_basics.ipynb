{
 "cells": [
  {
   "cell_type": "code",
   "execution_count": 2,
   "id": "6a75efc9",
   "metadata": {},
   "outputs": [],
   "source": [
    "import numpy as np"
   ]
  },
  {
   "cell_type": "code",
   "execution_count": 3,
   "id": "961991e6",
   "metadata": {},
   "outputs": [
    {
     "name": "stdout",
     "output_type": "stream",
     "text": [
      "[1 2 3 4]\n"
     ]
    }
   ],
   "source": [
    "arr1 = np.array([1,2,3,4])\n",
    "print(arr1)"
   ]
  },
  {
   "cell_type": "code",
   "execution_count": 4,
   "id": "4b66d94d",
   "metadata": {},
   "outputs": [
    {
     "name": "stdout",
     "output_type": "stream",
     "text": [
      "[0 2 4 6 8]\n"
     ]
    }
   ],
   "source": [
    "arr2 = np.arange(0,10,2)\n",
    "print(arr2)"
   ]
  },
  {
   "cell_type": "code",
   "execution_count": 5,
   "id": "4d62a51c",
   "metadata": {},
   "outputs": [
    {
     "name": "stdout",
     "output_type": "stream",
     "text": [
      "[46 70 71 41 60]\n"
     ]
    }
   ],
   "source": [
    "arr3 = np.random.randint(0,100,5)\n",
    "print(arr3)"
   ]
  },
  {
   "cell_type": "code",
   "execution_count": 6,
   "id": "4c275ea9",
   "metadata": {},
   "outputs": [
    {
     "name": "stdout",
     "output_type": "stream",
     "text": [
      "[6 7 8 9]\n",
      "[ 6 12 18 24]\n"
     ]
    }
   ],
   "source": [
    "print(arr1 + 5)\n",
    "print(arr1 * 6)"
   ]
  },
  {
   "cell_type": "code",
   "execution_count": 7,
   "id": "76067879",
   "metadata": {},
   "outputs": [
    {
     "name": "stdout",
     "output_type": "stream",
     "text": [
      "Mean :  57.6\n",
      "Max :  71\n"
     ]
    }
   ],
   "source": [
    "print(\"Mean : \", np.mean(arr3))\n",
    "print(\"Max : \", np.max(arr3))"
   ]
  },
  {
   "cell_type": "code",
   "execution_count": 8,
   "id": "19a6d523",
   "metadata": {},
   "outputs": [
    {
     "name": "stdout",
     "output_type": "stream",
     "text": [
      "Reshape: [[0 2 4 6 8]]\n"
     ]
    }
   ],
   "source": [
    "reshaped = arr2.reshape(1, 5)  # Change shape to 1 row, 5 columns\n",
    "print(\"Reshape:\", reshaped)\n"
   ]
  },
  {
   "cell_type": "code",
   "execution_count": 9,
   "id": "f58c5a20",
   "metadata": {},
   "outputs": [
    {
     "name": "stdout",
     "output_type": "stream",
     "text": [
      "[[1 2 3]\n",
      " [4 5 6]\n",
      " [7 8 9]]\n",
      "[[ 2  4  6]\n",
      " [ 8 10 12]\n",
      " [14 16 18]]\n"
     ]
    }
   ],
   "source": [
    "matrix_np = np.array([\n",
    "        [1, 2, 3],\n",
    "        [4, 5, 6],\n",
    "        [7, 8, 9]\n",
    "    ])\n",
    "\n",
    "print(matrix_np)\n",
    "print(matrix_np * 2)"
   ]
  },
  {
   "cell_type": "code",
   "execution_count": 10,
   "id": "b52e8eb7",
   "metadata": {},
   "outputs": [
    {
     "name": "stdout",
     "output_type": "stream",
     "text": [
      "[[11 22 33]\n",
      " [14 25 36]\n",
      " [17 28 39]]\n"
     ]
    }
   ],
   "source": [
    "row_add = np.array([10, 20, 30])\n",
    "print(matrix_np + row_add)\n"
   ]
  },
  {
   "cell_type": "code",
   "execution_count": 18,
   "id": "d2cafaea",
   "metadata": {},
   "outputs": [
    {
     "name": "stdout",
     "output_type": "stream",
     "text": [
      "Matrix:\n",
      " [[1 1 0 0 1]\n",
      " [1 0 0 1 1]\n",
      " [0 0 1 0 0]\n",
      " [0 0 1 1 0]\n",
      " [1 0 0 1 1]]\n",
      "\n",
      "Transpose:\n",
      " [[1 1 0 0 1]\n",
      " [1 0 0 0 0]\n",
      " [0 0 1 1 0]\n",
      " [0 1 0 1 1]\n",
      " [1 1 0 0 1]]\n",
      "\n",
      "Product (Matrix @ Transpose):\n",
      " [[3 2 0 0 2]\n",
      " [2 3 0 1 3]\n",
      " [0 0 1 1 0]\n",
      " [0 1 1 2 1]\n",
      " [2 3 0 1 3]]\n",
      "\n",
      "Eigenvalues:\n",
      " [7.95766411 2.68443341 1.20213842 0.15576407 0.        ]\n",
      "\n",
      "Eigenvectors:\n",
      " [[ 0.48462432  0.44281941 -0.70225464 -0.27547895  0.        ]\n",
      " [ 0.60065116 -0.03493475  0.31563916  0.19588179 -0.70710678]\n",
      " [ 0.0296974  -0.4570144  -0.54360632  0.7033833   0.        ]\n",
      " [ 0.20662456 -0.76981032 -0.10988372 -0.59382146  0.        ]\n",
      " [ 0.60065116 -0.03493475  0.31563916  0.19588179  0.70710678]]\n"
     ]
    }
   ],
   "source": [
    "import numpy as np\n",
    "\n",
    "# Step 1: Generate 5x5 random matrix with values 0 or 1\n",
    "matrix1 = np.random.randint(0, 2, size=(5, 5))\n",
    "\n",
    "# Step 2: Transpose\n",
    "matrix1_T = matrix1.T\n",
    "\n",
    "# Step 3: Multiply matrix with its transpose\n",
    "product = matrix1 @ matrix1_T\n",
    "\n",
    "# Step 4: Eigen decomposition\n",
    "eigenvalues, eigenvectors = np.linalg.eig(product)\n",
    "\n",
    "# Display results\n",
    "print(\"Matrix:\\n\", matrix1)\n",
    "print(\"\\nTranspose:\\n\", matrix1_T)\n",
    "print(\"\\nProduct (Matrix @ Transpose):\\n\", product)\n",
    "print(\"\\nEigenvalues:\\n\", eigenvalues)\n",
    "print(\"\\nEigenvectors:\\n\", eigenvectors)\n"
   ]
  },
  {
   "cell_type": "code",
   "execution_count": 19,
   "id": "ceefb775",
   "metadata": {},
   "outputs": [
    {
     "data": {
      "image/png": "[encoded data removed]",
      "text/plain": [
       "<Figure size 640x480 with 1 Axes>"
      ]
     },
     "metadata": {},
     "output_type": "display_data"
    }
   ],
   "source": [
    "import numpy as np\n",
    "import matplotlib.pyplot as plt\n",
    "\n",
    "# Step 1: Create a toy dataset (10 points in 2D, with correlation)\n",
    "X = np.array([\n",
    "    [2.5, 2.4],\n",
    "    [0.5, 0.7],\n",
    "    [2.2, 2.9],\n",
    "    [1.9, 2.2],\n",
    "    [3.1, 3.0],\n",
    "    [2.3, 2.7],\n",
    "    [2, 1.6],\n",
    "    [1, 1.1],\n",
    "    [1.5, 1.6],\n",
    "    [1.1, 0.9]\n",
    "])\n",
    "\n",
    "# Step 2: Standardize (zero mean)\n",
    "X_meaned = X - np.mean(X, axis=0)\n",
    "\n",
    "# Step 3: Covariance matrix\n",
    "cov_matrix = np.cov(X_meaned, rowvar=False)\n",
    "\n",
    "# Step 4: Eigen decomposition\n",
    "eigenvalues, eigenvectors = np.linalg.eigh(cov_matrix)\n",
    "\n",
    "# Step 5: Sort eigenvalues (largest first)\n",
    "idxs = np.argsort(eigenvalues)[::-1]\n",
    "eigenvalues = eigenvalues[idxs]\n",
    "eigenvectors = eigenvectors[:, idxs]\n",
    "\n",
    "# Step 6: Pick top k eigenvectors (say k=1)\n",
    "pc1 = eigenvectors[:, 0]   # first principal component\n",
    "\n",
    "# Step 7: Project data onto PC1\n",
    "X_pca = X_meaned @ pc1\n",
    "\n",
    "# Plot original data + principal component\n",
    "plt.scatter(X[:, 0], X[:, 1], alpha=0.7)\n",
    "origin = np.mean(X, axis=0)\n",
    "plt.quiver(*origin, *pc1, color='r', scale=3, label=\"PC1\")\n",
    "plt.xlabel(\"X1\")\n",
    "plt.ylabel(\"X2\")\n",
    "plt.legend()\n",
    "plt.show()\n"
   ]
  }
 ],
 "metadata": {
  "kernelspec": {
   "display_name": "Python 3",
   "language": "python",
   "name": "python3"
  },
  "language_info": {
   "codemirror_mode": {
    "name": "ipython",
    "version": 3
   },
   "file_extension": ".py",
   "mimetype": "text/x-python",
   "name": "python",
   "nbconvert_exporter": "python",
   "pygments_lexer": "ipython3",
   "version": "3.12.1"
  }
 },
 "nbformat": 4,
 "nbformat_minor": 5
}
