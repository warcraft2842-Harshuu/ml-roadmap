{
 "cells": [
  {
   "cell_type": "code",
   "execution_count": 2,
   "id": "c6c5da0f",
   "metadata": {},
   "outputs": [],
   "source": [
    "import pandas as pd"
   ]
  },
  {
   "cell_type": "code",
   "execution_count": 3,
   "id": "882a59a6",
   "metadata": {},
   "outputs": [
    {
     "name": "stdout",
     "output_type": "stream",
     "text": [
      "      Name  Age    City\n",
      "0    Harsh   22  Ranchi\n",
      "1  Ashwini   17   Delhi\n",
      "2     Ravi   25  Mumbai\n",
      "3    Priya   19    Pune\n"
     ]
    }
   ],
   "source": [
    "data = {\n",
    "    \"Name\": [\"Harsh\", \"Ashwini\", \"Ravi\", \"Priya\"],\n",
    "    \"Age\": [22, 17, 25, 19],\n",
    "    \"City\": [\"Ranchi\", \"Delhi\", \"Mumbai\", \"Pune\"]\n",
    "}\n",
    "\n",
    "df = pd.DataFrame(data)\n",
    "\n",
    "print(df)"
   ]
  },
  {
   "cell_type": "code",
   "execution_count": 4,
   "id": "ef079164",
   "metadata": {},
   "outputs": [
    {
     "name": "stdout",
     "output_type": "stream",
     "text": [
      "0      Harsh\n",
      "1    Ashwini\n",
      "2       Ravi\n",
      "3      Priya\n",
      "Name: Name, dtype: object\n"
     ]
    }
   ],
   "source": [
    "print(df[\"Name\"])"
   ]
  },
  {
   "cell_type": "code",
   "execution_count": 5,
   "id": "1c80194b",
   "metadata": {},
   "outputs": [
    {
     "name": "stdout",
     "output_type": "stream",
     "text": [
      "      Name  Age\n",
      "0    Harsh   22\n",
      "1  Ashwini   17\n",
      "2     Ravi   25\n",
      "3    Priya   19\n"
     ]
    }
   ],
   "source": [
    "print(df[[\"Name\", \"Age\"]])"
   ]
  },
  {
   "cell_type": "code",
   "execution_count": 6,
   "id": "61d524b6",
   "metadata": {},
   "outputs": [
    {
     "name": "stdout",
     "output_type": "stream",
     "text": [
      "Adult\n",
      "    Name  Age    City\n",
      "0  Harsh   22  Ranchi\n",
      "2   Ravi   25  Mumbai\n",
      "3  Priya   19    Pune\n"
     ]
    }
   ],
   "source": [
    "print(\"Adult\")\n",
    "print(df[df[\"Age\"] >= 18])"
   ]
  },
  {
   "cell_type": "code",
   "execution_count": 7,
   "id": "ee47341b",
   "metadata": {},
   "outputs": [
    {
     "name": "stdout",
     "output_type": "stream",
     "text": [
      "      Name  Age    City  Adult\n",
      "0    Harsh   22  Ranchi   True\n",
      "1  Ashwini   17   Delhi  False\n",
      "2     Ravi   25  Mumbai   True\n",
      "3    Priya   19    Pune   True\n"
     ]
    }
   ],
   "source": [
    "df[\"Adult\"] = df[\"Age\"] >= 18\n",
    "print(df)"
   ]
  },
  {
   "cell_type": "code",
   "execution_count": 8,
   "id": "03552145",
   "metadata": {},
   "outputs": [
    {
     "name": "stdout",
     "output_type": "stream",
     "text": [
      "         Age\n",
      "count   4.00\n",
      "mean   20.75\n",
      "std     3.50\n",
      "min    17.00\n",
      "25%    18.50\n",
      "50%    20.50\n",
      "75%    22.75\n",
      "max    25.00\n"
     ]
    }
   ],
   "source": [
    "print(df.describe())"
   ]
  },
  {
   "cell_type": "code",
   "execution_count": 9,
   "id": "5df22fde",
   "metadata": {},
   "outputs": [
    {
     "name": "stdout",
     "output_type": "stream",
     "text": [
      "      Name  Age    City  Adult\n",
      "1  Ashwini   17   Delhi  False\n",
      "3    Priya   19    Pune   True\n",
      "0    Harsh   22  Ranchi   True\n",
      "2     Ravi   25  Mumbai   True\n"
     ]
    }
   ],
   "source": [
    "print(df.sort_values(by=\"Age\"))"
   ]
  },
  {
   "cell_type": "code",
   "execution_count": 10,
   "id": "6af8ddb7",
   "metadata": {},
   "outputs": [
    {
     "name": "stdout",
     "output_type": "stream",
     "text": [
      "      Name  Age Department  Salary\n",
      "0    Alice   25         HR   50000\n",
      "1      Bob   32         IT   60000\n",
      "2  Charlie   37    Finance   75000\n",
      "3    David   29         IT   62000\n",
      "4      Eve   41    Finance   80000\n"
     ]
    }
   ],
   "source": [
    "data = {\n",
    "    \"Name\": [\"Alice\", \"Bob\", \"Charlie\", \"David\", \"Eve\"],\n",
    "    \"Age\": [25, 32, 37, 29, 41],\n",
    "    \"Department\": [\"HR\", \"IT\", \"Finance\", \"IT\", \"Finance\"],\n",
    "    \"Salary\": [50000, 60000, 75000, 62000, 80000]\n",
    "}\n",
    "\n",
    "df = pd.DataFrame(data)\n",
    "print(df)"
   ]
  },
  {
   "cell_type": "code",
   "execution_count": 11,
   "id": "80e2b440",
   "metadata": {},
   "outputs": [
    {
     "name": "stdout",
     "output_type": "stream",
     "text": [
      "0    25\n",
      "1    32\n",
      "2    37\n",
      "3    29\n",
      "4    41\n",
      "Name: Age, dtype: int64\n",
      "    Name  Age Department  Salary\n",
      "1    Bob   32         IT   60000\n",
      "3  David   29         IT   62000\n"
     ]
    }
   ],
   "source": [
    "print(df['Age'])\n",
    "print(df[df[\"Department\"] == 'IT'])"
   ]
  },
  {
   "cell_type": "code",
   "execution_count": 12,
   "id": "aaba833d",
   "metadata": {},
   "outputs": [
    {
     "name": "stdout",
     "output_type": "stream",
     "text": [
      "   Salary\n",
      "2   75000\n",
      "4   80000\n"
     ]
    }
   ],
   "source": [
    "print(df[df[\"Department\"] == \"Finance\"][[\"Salary\"]])"
   ]
  },
  {
   "cell_type": "code",
   "execution_count": 13,
   "id": "cb614ab3",
   "metadata": {},
   "outputs": [
    {
     "name": "stdout",
     "output_type": "stream",
     "text": [
      "Department\n",
      "Finance    77500.0\n",
      "HR         50000.0\n",
      "IT         61000.0\n",
      "Name: Salary, dtype: float64\n"
     ]
    }
   ],
   "source": [
    "avg_salary = df.groupby('Department')['Salary'].mean()\n",
    "print(avg_salary)\n",
    "\n"
   ]
  },
  {
   "cell_type": "code",
   "execution_count": 14,
   "id": "a9dab0d8",
   "metadata": {},
   "outputs": [
    {
     "name": "stdout",
     "output_type": "stream",
     "text": [
      "            mean  max\n",
      "Department           \n",
      "Finance     39.0   41\n",
      "HR          25.0   25\n",
      "IT          30.5   32\n"
     ]
    }
   ],
   "source": [
    "print(df.groupby(\"Department\")[\"Age\"].agg([\"mean\", \"max\"]))"
   ]
  },
  {
   "cell_type": "code",
   "execution_count": 15,
   "id": "9b00a05b",
   "metadata": {},
   "outputs": [
    {
     "name": "stdout",
     "output_type": "stream",
     "text": [
      "a    12\n",
      "b    24\n",
      "c    36\n",
      "d    48\n",
      "dtype: int64\n"
     ]
    }
   ],
   "source": [
    "s = pd.Series([12,24,36,48], index = ['a','b','c','d'])\n",
    "print(s)"
   ]
  },
  {
   "cell_type": "code",
   "execution_count": 16,
   "id": "d5f0512d",
   "metadata": {},
   "outputs": [
    {
     "name": "stdout",
     "output_type": "stream",
     "text": [
      "      Name  Age        City\n",
      "0    Harsh   22      Ranchi\n",
      "1  Ashwini   17      Bokaro\n",
      "2   Rashmi   44  Hazaribagh\n"
     ]
    }
   ],
   "source": [
    "data2 = pd.DataFrame([\n",
    "    {\"Name\" : \"Harsh\", \"Age\" : 22, \"City\" : \"Ranchi\"},\n",
    "    {\"Name\" : \"Ashwini\", \"Age\" : 17 , \"City\" : \"Bokaro\"},\n",
    "    {\"Name\" : \"Rashmi\", \"Age\" : 44, \"City\" : \"Hazaribagh\"}\n",
    "])\n",
    "\n",
    "print(data2)"
   ]
  },
  {
   "cell_type": "code",
   "execution_count": 20,
   "id": "f1480fb9",
   "metadata": {},
   "outputs": [
    {
     "name": "stdout",
     "output_type": "stream",
     "text": [
      "Name     Harsh\n",
      "Age         22\n",
      "City    Ranchi\n",
      "Name: 0, dtype: object\n",
      "Name    Ashwini\n",
      "Age          17\n",
      "City     Bokaro\n",
      "Name: 1, dtype: object\n"
     ]
    }
   ],
   "source": [
    "print(data2.iloc[0])  \n",
    "print(data2.loc[1])  "
   ]
  },
  {
   "cell_type": "code",
   "execution_count": 23,
   "id": "c2a817ae",
   "metadata": {},
   "outputs": [
    {
     "name": "stdout",
     "output_type": "stream",
     "text": [
      "0    22\n",
      "1    17\n",
      "2    44\n",
      "Name: Age, dtype: int64\n",
      "Name    Ashwini\n",
      "Age          17\n",
      "City     Bokaro\n",
      "Name: 1, dtype: object\n",
      "      Name  Age    City\n",
      "0    Harsh   22  Ranchi\n",
      "1  Ashwini   17  Bokaro\n"
     ]
    }
   ],
   "source": [
    "print(data2[\"Age\"])\n",
    "\n",
    "print(data2.iloc[1])\n",
    "\n",
    "print(data2[data2[\"Age\"] < 30])"
   ]
  },
  {
   "cell_type": "code",
   "execution_count": 25,
   "id": "c03792da",
   "metadata": {},
   "outputs": [],
   "source": [
    "data = pd.DataFrame([\n",
    "    {\"Name\": \"Harsh\", \"Department\": \"IT\", \"Salary\": 60000, \"Age\": 22},\n",
    "    {\"Name\": \"Ashwini\", \"Department\": \"HR\", \"Salary\": 45000, \"Age\": 25},\n",
    "    {\"Name\": \"Rashmi\", \"Department\": \"Finance\", \"Salary\": 70000, \"Age\": 44},\n",
    "    {\"Name\": \"Ankit\", \"Department\": \"IT\", \"Salary\": 65000, \"Age\": 28},\n",
    "    {\"Name\": \"Priya\", \"Department\": \"Finance\", \"Salary\": 72000, \"Age\": 35},\n",
    "    {\"Name\": \"Amit\", \"Department\": \"HR\", \"Salary\": 48000, \"Age\": 31},\n",
    "    {\"Name\": \"Sneha\", \"Department\": \"IT\", \"Salary\": 55000, \"Age\": 26},\n",
    "])\n"
   ]
  },
  {
   "cell_type": "code",
   "execution_count": null,
   "id": "2c6a1c81",
   "metadata": {},
   "outputs": [],
   "source": [
    "print(data.groupby(\"Department\").avg())\n",
    "\n",
    "print(data.groupby(\"Department\").max())\n",
    "\n",
    "print(data.groupby(\"Department\").count())\n",
    "\n",
    "print(data.groupby)"
   ]
  }
 ],
 "metadata": {
  "kernelspec": {
   "display_name": "Python 3",
   "language": "python",
   "name": "python3"
  },
  "language_info": {
   "codemirror_mode": {
    "name": "ipython",
    "version": 3
   },
   "file_extension": ".py",
   "mimetype": "text/x-python",
   "name": "python",
   "nbconvert_exporter": "python",
   "pygments_lexer": "ipython3",
   "version": "3.12.1"
  }
 },
 "nbformat": 4,
 "nbformat_minor": 5
}
